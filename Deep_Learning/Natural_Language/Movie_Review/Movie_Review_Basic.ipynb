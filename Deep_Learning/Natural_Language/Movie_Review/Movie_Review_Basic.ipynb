{
 "cells": [
  {
   "cell_type": "markdown",
   "id": "ad3ffe36",
   "metadata": {},
   "source": [
    "# IMDB 영화리뷰 감정분석\n",
    "tensorflow Keras에 포함된 imdb 데이터셋을 분석\n",
    "\n",
    "\n",
    "---"
   ]
  },
  {
   "cell_type": "markdown",
   "id": "b0256238",
   "metadata": {},
   "source": [
    "### 1. 데이터셋 불러오기"
   ]
  },
  {
   "cell_type": "code",
   "execution_count": 17,
   "id": "7c635203",
   "metadata": {},
   "outputs": [],
   "source": [
    "import numpy as np\n",
    "import os"
   ]
  },
  {
   "cell_type": "code",
   "execution_count": 2,
   "id": "22f0125a",
   "metadata": {},
   "outputs": [],
   "source": [
    "import tensorflow as tf"
   ]
  },
  {
   "cell_type": "code",
   "execution_count": 3,
   "id": "3be47ca9",
   "metadata": {},
   "outputs": [
    {
     "name": "stdout",
     "output_type": "stream",
     "text": [
      "훈련 샘플 개수: 25000, 테스트 개수: 25000\n"
     ]
    }
   ],
   "source": [
    "imdb = tf.keras.datasets.imdb\n",
    "\n",
    "# IMDb 데이터셋 다운로드 \n",
    "(x_train, y_train), (x_test, y_test) = imdb.load_data(num_words=10000)\n",
    "print(\"훈련 샘플 개수: {}, 테스트 개수: {}\".format(len(x_train), len(x_test)))"
   ]
  },
  {
   "cell_type": "code",
   "execution_count": 4,
   "id": "82d53022",
   "metadata": {},
   "outputs": [
    {
     "name": "stdout",
     "output_type": "stream",
     "text": [
      "[1, 14, 22, 16, 43, 530, 973, 1622, 1385, 65, 458, 4468, 66, 3941, 4, 173, 36, 256, 5, 25, 100, 43, 838, 112, 50, 670, 2, 9, 35, 480, 284, 5, 150, 4, 172, 112, 167, 2, 336, 385, 39, 4, 172, 4536, 1111, 17, 546, 38, 13, 447, 4, 192, 50, 16, 6, 147, 2025, 19, 14, 22, 4, 1920, 4613, 469, 4, 22, 71, 87, 12, 16, 43, 530, 38, 76, 15, 13, 1247, 4, 22, 17, 515, 17, 12, 16, 626, 18, 2, 5, 62, 386, 12, 8, 316, 8, 106, 5, 4, 2223, 5244, 16, 480, 66, 3785, 33, 4, 130, 12, 16, 38, 619, 5, 25, 124, 51, 36, 135, 48, 25, 1415, 33, 6, 22, 12, 215, 28, 77, 52, 5, 14, 407, 16, 82, 2, 8, 4, 107, 117, 5952, 15, 256, 4, 2, 7, 3766, 5, 723, 36, 71, 43, 530, 476, 26, 400, 317, 46, 7, 4, 2, 1029, 13, 104, 88, 4, 381, 15, 297, 98, 32, 2071, 56, 26, 141, 6, 194, 7486, 18, 4, 226, 22, 21, 134, 476, 26, 480, 5, 144, 30, 5535, 18, 51, 36, 28, 224, 92, 25, 104, 4, 226, 65, 16, 38, 1334, 88, 12, 16, 283, 5, 16, 4472, 113, 103, 32, 15, 16, 5345, 19, 178, 32]\n",
      "라벨:  1\n",
      "1번째 리뷰 문장 길이:  218\n",
      "2번째 리뷰 문장 길이:  189\n"
     ]
    }
   ],
   "source": [
    "print(x_train[0])  # 1번째 리뷰데이터\n",
    "print('라벨: ', y_train[0])  # 1번째 리뷰데이터의 라벨\n",
    "print('1번째 리뷰 문장 길이: ', len(x_train[0]))\n",
    "print('2번째 리뷰 문장 길이: ', len(x_train[1]))\n",
    "\n",
    "# 데이터 확인"
   ]
  },
  {
   "cell_type": "markdown",
   "id": "b40f6242",
   "metadata": {},
   "source": [
    "결과를 보면 이미 숫자로 encode된 데이터임을 알 수 있음.<br>\n",
    "imdb 데이터셋은 encode한 데이터와 딕셔너리를 함께 제공함.(단어 출현 빈도 기준으로 내림차순 정렬)<br><br>\n",
    "\n",
    "\n",
    "### 1-2. 딕셔너리 확인 "
   ]
  },
  {
   "cell_type": "code",
   "execution_count": 5,
   "id": "ce86a201",
   "metadata": {},
   "outputs": [
    {
     "name": "stdout",
     "output_type": "stream",
     "text": [
      "the\n",
      "1\n"
     ]
    }
   ],
   "source": [
    "word_to_index = imdb.get_word_index()\n",
    "index_to_word = {index:word for word, index in word_to_index.items()}\n",
    "\n",
    "print(index_to_word[1])     # 'the' 가 출력됨. \n",
    "print(word_to_index['the'])  # 1 이 출력됨."
   ]
  },
  {
   "cell_type": "code",
   "execution_count": 6,
   "id": "deaff71d",
   "metadata": {},
   "outputs": [
    {
     "name": "stdout",
     "output_type": "stream",
     "text": [
      "<BOS>\n",
      "4\n",
      "the\n"
     ]
    }
   ],
   "source": [
    "#실제 인코딩 인덱스는 제공된 word_to_index에서 index 기준으로 3씩 뒤로 밀어서 사용하였음.\n",
    "#따라서 PAD, BOS, UNK, 추가로 UNUSED까지 넣어주는 작업을 할 것.\n",
    "word_to_index = {k:(v+3) for k,v in word_to_index.items()}\n",
    "\n",
    "# 처음 몇 개 인덱스는 사전에 정의되어 있다.\n",
    "word_to_index[\"<PAD>\"] = 0\n",
    "word_to_index[\"<BOS>\"] = 1\n",
    "word_to_index[\"<UNK>\"] = 2  # unknown\n",
    "word_to_index[\"<UNUSED>\"] = 3\n",
    "\n",
    "index_to_word = {index:word for word, index in word_to_index.items()}\n",
    "\n",
    "print(index_to_word[1])     # '<BOS>' 가 출력됨. \n",
    "print(word_to_index['the'])  # 4 이 출력됨. \n",
    "print(index_to_word[4])     # 'the' 가 출력됨."
   ]
  },
  {
   "cell_type": "code",
   "execution_count": 7,
   "id": "d064a6c6",
   "metadata": {},
   "outputs": [
    {
     "name": "stdout",
     "output_type": "stream",
     "text": [
      "this film was just brilliant casting location scenery story direction everyone's really suited the part they played and you could just imagine being there robert <UNK> is an amazing actor and now the same being director <UNK> father came from the same scottish island as myself so i loved the fact there was a real connection with this film the witty remarks throughout the film were great it was just brilliant so much that i bought the film as soon as it was released for <UNK> and would recommend it to everyone to watch and the fly fishing was amazing really cried at the end it was so sad and you know what they say if you cry at a film it must have been good and this definitely was also <UNK> to the two little boy's that played the <UNK> of norman and paul they were just brilliant children are often left out of the <UNK> list i think because the stars that play them all grown up are such a big profile for the whole film but these children are amazing and should be praised for what they have done don't you think the whole story was so lovely because it was true and was someone's life after all that was shared with us all\n",
      "---\n",
      "라벨:  1\n"
     ]
    }
   ],
   "source": [
    "# 작업을 거친 딕셔너리로 제대로 디코딩이 되는지 확인\n",
    "\n",
    "def get_decoded_sentence(encoded_sentence, index_to_word):\n",
    "    return ' '.join(index_to_word[index] if index in index_to_word else '<UNK>' for index in encoded_sentence[1:])  #[1:]를 통해 <BOS>를 제외\n",
    "\n",
    "print(get_decoded_sentence(x_train[0], index_to_word))\n",
    "print('---')\n",
    "print('라벨: ', y_train[0])  # 1번째 리뷰데이터의 라벨"
   ]
  },
  {
   "cell_type": "markdown",
   "id": "a3b08957",
   "metadata": {},
   "source": [
    "### 1-3. Embedding 전 문장 길이를 일치시키기\n",
    "<span style=\"color:red\"> 문장 최대 길이 **maxlen**의 값 설정이 모델 성능에 영향을 크게 미치므로 적절한 값을 찾아야 한다. </span>\n",
    " * 적절한 maxlen값 찾기"
   ]
  },
  {
   "cell_type": "code",
   "execution_count": 8,
   "id": "50c0f767",
   "metadata": {},
   "outputs": [
    {
     "name": "stdout",
     "output_type": "stream",
     "text": [
      "문장길이 평균 :  234.75892\n",
      "문장길이 최대 :  2494\n",
      "문장길이 표준편차 :  172.91149458735703\n"
     ]
    }
   ],
   "source": [
    "total_data_text = list(x_train) + list(x_test)\n",
    "# len함수를 적용하기 위해 리스트를 생성해서 데이터를 삽입\n",
    "\n",
    "num_tokens = [len(tokens) for tokens in total_data_text]\n",
    "num_tokens = np.array(num_tokens)\n",
    "# 문장길이의 평균값, 최대값, 표준편차를 계산. \n",
    "\n",
    "print('문장길이 평균 : ', np.mean(num_tokens))\n",
    "print('문장길이 최대 : ', np.max(num_tokens))\n",
    "print('문장길이 표준편차 : ', np.std(num_tokens))"
   ]
  },
  {
   "cell_type": "markdown",
   "id": "5b0345fe",
   "metadata": {},
   "source": [
    "#### 여기서는 maxlen을 (평균 + 2*표준편차)로 설정할 것"
   ]
  },
  {
   "cell_type": "code",
   "execution_count": 9,
   "id": "8f592fc3",
   "metadata": {},
   "outputs": [
    {
     "name": "stdout",
     "output_type": "stream",
     "text": [
      "pad_sequences maxlen :  580\n",
      "전체 문장의 0.94536%가 maxlen 설정값 이내에 포함된다. \n"
     ]
    }
   ],
   "source": [
    "# 최대 길이를 (평균 + 2*표준편차)로 설정,  \n",
    "max_tokens = np.mean(num_tokens) + 2 * np.std(num_tokens)\n",
    "maxlen = int(max_tokens)\n",
    "print('pad_sequences maxlen : ', maxlen)\n",
    "print('전체 문장의 {}%가 maxlen 설정값 이내에 포함된다. '.format(np.sum(num_tokens < max_tokens) / len(num_tokens)))"
   ]
  },
  {
   "cell_type": "markdown",
   "id": "e64f0b61",
   "metadata": {},
   "source": [
    "위에서 정한 것처럼 maxlen = 580으로 진행<br><br>\n",
    "\n",
    "\n",
    "* Padding을 적용하여 문장 길이를 일치시키기(train, test 데이터)\n",
    " \n",
    " \n",
    " \n",
    "#### padding 방식을 문장 뒤쪽('post')과 앞쪽('pre') 어느 쪽으로 지정하는가에 따라 성능 차이가 발생(RNN 특성상 pre가 유리)"
   ]
  },
  {
   "cell_type": "code",
   "execution_count": 10,
   "id": "f9447d0e",
   "metadata": {},
   "outputs": [
    {
     "name": "stdout",
     "output_type": "stream",
     "text": [
      "(25000, 580)\n"
     ]
    }
   ],
   "source": [
    "x_train = tf.keras.preprocessing.sequence.pad_sequences(x_train,\n",
    "                                                        value=word_to_index[\"<PAD>\"],\n",
    "                                                        padding='pre', # 혹은 'post'\n",
    "                                                        maxlen=maxlen)\n",
    "\n",
    "x_test = tf.keras.preprocessing.sequence.pad_sequences(x_test,\n",
    "                                                       value=word_to_index[\"<PAD>\"],\n",
    "                                                       padding='pre', # 혹은 'post'\n",
    "                                                       maxlen=maxlen)\n",
    "\n",
    "print(x_train.shape)"
   ]
  },
  {
   "cell_type": "markdown",
   "id": "182455a1",
   "metadata": {},
   "source": [
    "### 1-4. train 데이터셋이서 validation 데이터셋 분리\n",
    "훈련 데이터 25000건에서 10000건을 분리할 예정"
   ]
  },
  {
   "cell_type": "code",
   "execution_count": 11,
   "id": "cca1b68b",
   "metadata": {},
   "outputs": [
    {
     "name": "stdout",
     "output_type": "stream",
     "text": [
      "(15000, 580)\n",
      "(15000,)\n"
     ]
    }
   ],
   "source": [
    "# validation set 10000건 분리\n",
    "x_val = x_train[:10000]   \n",
    "y_val = y_train[:10000]\n",
    "\n",
    "# validation set을 제외한 나머지 15000건\n",
    "partial_x_train = x_train[10000:]  \n",
    "partial_y_train = y_train[10000:]\n",
    "\n",
    "print(partial_x_train.shape)\n",
    "print(partial_y_train.shape)"
   ]
  },
  {
   "cell_type": "markdown",
   "id": "333e1835",
   "metadata": {},
   "source": [
    "### 1-5. Embedding을 포함한 Bidirectional LSTM 모델 설계"
   ]
  },
  {
   "cell_type": "code",
   "execution_count": 14,
   "id": "fed685de",
   "metadata": {},
   "outputs": [
    {
     "name": "stdout",
     "output_type": "stream",
     "text": [
      "Metal device set to: Apple M2\n"
     ]
    },
    {
     "name": "stderr",
     "output_type": "stream",
     "text": [
      "2022-09-19 23:41:12.086017: I tensorflow/core/common_runtime/pluggable_device/pluggable_device_factory.cc:306] Could not identify NUMA node of platform GPU ID 0, defaulting to 0. Your kernel may not have been built with NUMA support.\n",
      "2022-09-19 23:41:12.086465: I tensorflow/core/common_runtime/pluggable_device/pluggable_device_factory.cc:272] Created TensorFlow device (/job:localhost/replica:0/task:0/device:GPU:0 with 0 MB memory) -> physical PluggableDevice (device: 0, name: METAL, pci bus id: <undefined>)\n"
     ]
    },
    {
     "name": "stdout",
     "output_type": "stream",
     "text": [
      "Model: \"sequential\"\n",
      "_________________________________________________________________\n",
      " Layer (type)                Output Shape              Param #   \n",
      "=================================================================\n",
      " embedding (Embedding)       (None, None, 16)          160000    \n",
      "                                                                 \n",
      " bidirectional (Bidirectiona  (None, 256)              148480    \n",
      " l)                                                              \n",
      "                                                                 \n",
      " dense (Dense)               (None, 1)                 257       \n",
      "                                                                 \n",
      "=================================================================\n",
      "Total params: 308,737\n",
      "Trainable params: 308,737\n",
      "Non-trainable params: 0\n",
      "_________________________________________________________________\n"
     ]
    }
   ],
   "source": [
    "from tensorflow.keras.models import Sequential\n",
    "from tensorflow.keras.layers import Embedding, Bidirectional, Dense\n",
    "\n",
    "vocab_size = 10000    # 어휘 사전의 크기(10,000개의 단어)\n",
    "word_vector_dim = 16  # 워드 벡터의 차원 수(변경 가능한 하이퍼파라미터)\n",
    "\n",
    "model = tf.keras.Sequential()\n",
    "\n",
    "model.add(tf.keras.layers.Embedding(vocab_size,word_vector_dim))\n",
    "model.add(tf.keras.layers.Bidirectional(tf.keras.layers.LSTM(128)))\n",
    "model.add(tf.keras.layers.Dense(1, activation='sigmoid'))\n",
    "\n",
    "model.summary()"
   ]
  },
  {
   "cell_type": "markdown",
   "id": "417806a4",
   "metadata": {},
   "source": [
    "### 1-6. 모델 학습 및 평가"
   ]
  },
  {
   "cell_type": "code",
   "execution_count": 23,
   "id": "3c623f43",
   "metadata": {},
   "outputs": [
    {
     "name": "stdout",
     "output_type": "stream",
     "text": [
      "Epoch 1/20\n"
     ]
    },
    {
     "name": "stderr",
     "output_type": "stream",
     "text": [
      "2022-09-19 22:04:17.281235: W tensorflow/core/platform/profile_utils/cpu_utils.cc:128] Failed to get CPU frequency: 0 Hz\n",
      "2022-09-19 22:04:18.005687: I tensorflow/core/grappler/optimizers/custom_graph_optimizer_registry.cc:114] Plugin optimizer for device_type GPU is enabled.\n",
      "2022-09-19 22:04:18.250519: I tensorflow/core/grappler/optimizers/custom_graph_optimizer_registry.cc:114] Plugin optimizer for device_type GPU is enabled.\n",
      "2022-09-19 22:04:18.263866: I tensorflow/core/grappler/optimizers/custom_graph_optimizer_registry.cc:114] Plugin optimizer for device_type GPU is enabled.\n",
      "2022-09-19 22:04:21.347027: I tensorflow/core/grappler/optimizers/custom_graph_optimizer_registry.cc:114] Plugin optimizer for device_type GPU is enabled.\n",
      "2022-09-19 22:04:21.363653: I tensorflow/core/grappler/optimizers/custom_graph_optimizer_registry.cc:114] Plugin optimizer for device_type GPU is enabled.\n"
     ]
    },
    {
     "name": "stdout",
     "output_type": "stream",
     "text": [
      "30/30 [==============================] - ETA: 0s - loss: 0.6933 - accuracy: 0.5056"
     ]
    },
    {
     "name": "stderr",
     "output_type": "stream",
     "text": [
      "2022-09-19 22:05:04.963434: I tensorflow/core/grappler/optimizers/custom_graph_optimizer_registry.cc:114] Plugin optimizer for device_type GPU is enabled.\n",
      "2022-09-19 22:05:05.019651: I tensorflow/core/grappler/optimizers/custom_graph_optimizer_registry.cc:114] Plugin optimizer for device_type GPU is enabled.\n",
      "2022-09-19 22:05:05.030051: I tensorflow/core/grappler/optimizers/custom_graph_optimizer_registry.cc:114] Plugin optimizer for device_type GPU is enabled.\n"
     ]
    },
    {
     "name": "stdout",
     "output_type": "stream",
     "text": [
      "30/30 [==============================] - 56s 2s/step - loss: 0.6933 - accuracy: 0.5056 - val_loss: 0.6924 - val_accuracy: 0.4947\n",
      "Epoch 2/20\n",
      "30/30 [==============================] - 44s 1s/step - loss: 0.6761 - accuracy: 0.6114 - val_loss: 0.6247 - val_accuracy: 0.7264\n",
      "Epoch 3/20\n",
      "30/30 [==============================] - 41s 1s/step - loss: 0.6205 - accuracy: 0.7201 - val_loss: 0.5880 - val_accuracy: 0.6985\n",
      "Epoch 4/20\n",
      "30/30 [==============================] - 40s 1s/step - loss: 0.5744 - accuracy: 0.7285 - val_loss: 0.5826 - val_accuracy: 0.7013\n",
      "Epoch 5/20\n",
      "30/30 [==============================] - 40s 1s/step - loss: 0.4979 - accuracy: 0.7828 - val_loss: 0.4973 - val_accuracy: 0.7545\n",
      "Epoch 6/20\n",
      "30/30 [==============================] - 57s 2s/step - loss: 0.3530 - accuracy: 0.8469 - val_loss: 0.3962 - val_accuracy: 0.8288\n",
      "Epoch 7/20\n",
      "30/30 [==============================] - 60s 2s/step - loss: 0.2560 - accuracy: 0.8956 - val_loss: 0.3585 - val_accuracy: 0.8481\n",
      "Epoch 8/20\n",
      "30/30 [==============================] - 53s 2s/step - loss: 0.2312 - accuracy: 0.9109 - val_loss: 0.3704 - val_accuracy: 0.8427\n",
      "Epoch 9/20\n",
      "30/30 [==============================] - 51s 2s/step - loss: 0.1819 - accuracy: 0.9302 - val_loss: 0.3932 - val_accuracy: 0.8339\n",
      "Epoch 10/20\n",
      "30/30 [==============================] - 47s 2s/step - loss: 0.1774 - accuracy: 0.9367 - val_loss: 0.3919 - val_accuracy: 0.8378\n",
      "Epoch 11/20\n",
      "30/30 [==============================] - 47s 2s/step - loss: 0.1334 - accuracy: 0.9550 - val_loss: 0.4290 - val_accuracy: 0.8500\n",
      "Epoch 12/20\n",
      "30/30 [==============================] - 48s 2s/step - loss: 0.1078 - accuracy: 0.9660 - val_loss: 0.4332 - val_accuracy: 0.8465\n",
      "Epoch 13/20\n",
      "30/30 [==============================] - 141s 5s/step - loss: 0.0905 - accuracy: 0.9737 - val_loss: 0.4786 - val_accuracy: 0.8382\n",
      "Epoch 14/20\n",
      "30/30 [==============================] - 41s 1s/step - loss: 0.0767 - accuracy: 0.9786 - val_loss: 0.4832 - val_accuracy: 0.8414\n",
      "Epoch 15/20\n",
      "30/30 [==============================] - 41s 1s/step - loss: 0.0619 - accuracy: 0.9837 - val_loss: 0.5489 - val_accuracy: 0.8428\n",
      "Epoch 16/20\n",
      "30/30 [==============================] - 41s 1s/step - loss: 0.0577 - accuracy: 0.9851 - val_loss: 0.5737 - val_accuracy: 0.8369\n",
      "Epoch 17/20\n",
      "30/30 [==============================] - 41s 1s/step - loss: 0.0480 - accuracy: 0.9883 - val_loss: 0.6048 - val_accuracy: 0.8390\n",
      "Epoch 18/20\n",
      "30/30 [==============================] - 40s 1s/step - loss: 0.0430 - accuracy: 0.9901 - val_loss: 0.5892 - val_accuracy: 0.8329\n",
      "Epoch 19/20\n",
      "30/30 [==============================] - 41s 1s/step - loss: 0.0386 - accuracy: 0.9912 - val_loss: 0.6209 - val_accuracy: 0.8348\n",
      "Epoch 20/20\n",
      "30/30 [==============================] - 384s 13s/step - loss: 0.0367 - accuracy: 0.9921 - val_loss: 0.6859 - val_accuracy: 0.8367\n"
     ]
    }
   ],
   "source": [
    "model.compile(optimizer='adam',\n",
    "              loss='binary_crossentropy',\n",
    "              metrics=['accuracy'])\n",
    "              \n",
    "epochs=20  # 몇 epoch를 훈련하면 좋을지 결과를 보면서 바꾸기. \n",
    "\n",
    "history = model.fit(partial_x_train,\n",
    "                    partial_y_train,\n",
    "                    epochs=epochs,\n",
    "                    batch_size=512,\n",
    "                    validation_data=(x_val, y_val),\n",
    "                    verbose=1)"
   ]
  },
  {
   "cell_type": "markdown",
   "id": "27124bb7",
   "metadata": {},
   "source": [
    "#### 테스트 데이터셋을 이용해 평가"
   ]
  },
  {
   "cell_type": "code",
   "execution_count": 24,
   "id": "3255b6cd",
   "metadata": {},
   "outputs": [
    {
     "name": "stdout",
     "output_type": "stream",
     "text": [
      "782/782 - 102s - loss: 6.9752 - accuracy: 0.5019 - 102s/epoch - 130ms/step\n",
      "[6.975229740142822, 0.5019200444221497]\n"
     ]
    }
   ],
   "source": [
    "results = model.evaluate(x_test,  y_test, verbose=2)\n",
    "\n",
    "print(results)"
   ]
  },
  {
   "cell_type": "markdown",
   "id": "4f44a399",
   "metadata": {},
   "source": [
    "#### train/validation loss, accuracy 등이 매 epoch마다 history 변수에 저장되어 있으므로 확인"
   ]
  },
  {
   "cell_type": "code",
   "execution_count": 25,
   "id": "8ca90168",
   "metadata": {},
   "outputs": [
    {
     "name": "stdout",
     "output_type": "stream",
     "text": [
      "dict_keys(['loss', 'accuracy', 'val_loss', 'val_accuracy'])\n"
     ]
    }
   ],
   "source": [
    "history_dict = history.history\n",
    "print(history_dict.keys()) # epoch에 따른 그래프를 그려볼 수 있는 항목들"
   ]
  },
  {
   "cell_type": "code",
   "execution_count": 26,
   "id": "ea94bb66",
   "metadata": {},
   "outputs": [
    {
     "data": {
      "image/png": "[encoded data removed]",
      "text/plain": [
       "<Figure size 640x480 with 1 Axes>"
      ]
     },
     "metadata": {},
     "output_type": "display_data"
    }
   ],
   "source": [
    "import matplotlib.pyplot as plt\n",
    "\n",
    "acc = history_dict['accuracy']\n",
    "val_acc = history_dict['val_accuracy']\n",
    "loss = history_dict['loss']\n",
    "val_loss = history_dict['val_loss']\n",
    "\n",
    "epochs = range(1, len(acc) + 1)\n",
    "\n",
    "# \"bo\"는 \"파란색 점\"입니다\n",
    "plt.plot(epochs, loss, 'bo', label='Training loss')\n",
    "# b는 \"파란 실선\"입니다\n",
    "plt.plot(epochs, val_loss, 'b', label='Validation loss')\n",
    "plt.title('Training and validation loss')\n",
    "plt.xlabel('Epochs')\n",
    "plt.ylabel('Loss')\n",
    "plt.legend()\n",
    "\n",
    "plt.show()"
   ]
  },
  {
   "cell_type": "code",
   "execution_count": 27,
   "id": "3cb257e9",
   "metadata": {},
   "outputs": [
    {
     "data": {
      "image/png": "[encoded data removed]",
      "text/plain": [
       "<Figure size 640x480 with 1 Axes>"
      ]
     },
     "metadata": {},
     "output_type": "display_data"
    }
   ],
   "source": [
    "plt.clf()   # 그림을 초기화합니다\n",
    "\n",
    "plt.plot(epochs, acc, 'bo', label='Training acc')\n",
    "plt.plot(epochs, val_acc, 'b', label='Validation acc')\n",
    "plt.title('Training and validation accuracy')\n",
    "plt.xlabel('Epochs')\n",
    "plt.ylabel('Accuracy')\n",
    "plt.legend()\n",
    "\n",
    "plt.show()"
   ]
  },
  {
   "cell_type": "markdown",
   "id": "3baca183",
   "metadata": {},
   "source": [
    "과적합(Overfitting이 발생한 것이 확인됨.\n",
    "\n",
    "---"
   ]
  },
  {
   "cell_type": "markdown",
   "id": "20d3d89e",
   "metadata": {},
   "source": [
    "### 심화. Word2Vec 적용 \n",
    "Embedding을 거쳤으므로 결과물인 워드 벡터들이 의미 공간상에 유의미한 형태로 학습되었다.<br>\n",
    "여기에 워드 벡터를 다루는데 유용한 gensim 패키지를 사용할 것.\n",
    "> [word2vec 이론](https://www.youtube.com/watch?v=sY4YyacSsLc&t=126s)"
   ]
  },
  {
   "cell_type": "code",
   "execution_count": 12,
   "id": "5468e533",
   "metadata": {},
   "outputs": [],
   "source": [
    "# 터미널에서 디렉터리 생성 및 gensim 패키지를 설치함"
   ]
  },
  {
   "cell_type": "code",
   "execution_count": 15,
   "id": "4df73950",
   "metadata": {},
   "outputs": [
    {
     "name": "stdout",
     "output_type": "stream",
     "text": [
      "(10000, 16)\n"
     ]
    }
   ],
   "source": [
    "embedding_layer = model.layers[0]\n",
    "weights = embedding_layer.get_weights()[0]\n",
    "print(weights.shape)    # shape: (vocab_size, embedding_dim)"
   ]
  },
  {
   "cell_type": "code",
   "execution_count": 19,
   "id": "6c726fb8",
   "metadata": {},
   "outputs": [],
   "source": [
    "# 학습한 Embedding 파라미터를 파일에 써서 저장. \n",
    "word2vec_file_path = os.getenv('HOME')+'/Aiffel_Project/Data/word2vec.txt'\n",
    "f = open(word2vec_file_path, 'w')\n",
    "f.write('{} {}\\n'.format(vocab_size-4, word_vector_dim))  # 몇개의 벡터를 얼마 사이즈로 기재할지 타이틀을 씀.\n",
    "\n",
    "# 단어 개수(에서 특수문자 4개는 제외하고)만큼의 워드 벡터를 파일에 기록. \n",
    "vectors = model.get_weights()[0]\n",
    "for i in range(4,vocab_size):\n",
    "    f.write('{} {}\\n'.format(index_to_word[i], ' '.join(map(str, list(vectors[i, :])))))\n",
    "f.close()"
   ]
  },
  {
   "cell_type": "markdown",
   "id": "c5c6ee58",
   "metadata": {},
   "source": [
    "gensim에서 제공하는 패키지를 이용해, 위에 남긴 embedding 패러미터를 읽어서 word vector로 활용 가능"
   ]
  },
  {
   "cell_type": "code",
   "execution_count": 20,
   "id": "870a3b04",
   "metadata": {},
   "outputs": [
    {
     "data": {
      "text/plain": [
       "array([-0.01380186,  0.03994907, -0.01144682,  0.02752781,  0.04945885,\n",
       "       -0.03719334,  0.04295421,  0.00917562,  0.00966991,  0.02597144,\n",
       "        0.00335364,  0.03553641,  0.03994148,  0.04514929, -0.03491169,\n",
       "        0.04970444], dtype=float32)"
      ]
     },
     "execution_count": 20,
     "metadata": {},
     "output_type": "execute_result"
    }
   ],
   "source": [
    "from gensim.models.keyedvectors import Word2VecKeyedVectors\n",
    "\n",
    "word_vectors = Word2VecKeyedVectors.load_word2vec_format(word2vec_file_path, binary=False)\n",
    "vector = word_vectors['computer']\n",
    "vector"
   ]
  },
  {
   "cell_type": "markdown",
   "id": "7698631e",
   "metadata": {},
   "source": [
    "워드 벡터가 의미 벡터 공간상에 유의미하게 학습이 되었는지 확인하기 위해, 단어를 주고 그와 가장 유사한 단어를 뽑게 함"
   ]
  },
  {
   "cell_type": "code",
   "execution_count": 21,
   "id": "2a05030e",
   "metadata": {},
   "outputs": [
    {
     "data": {
      "text/plain": [
       "[('shelter', 0.8424227237701416),\n",
       " ('worse', 0.8184141516685486),\n",
       " ('bin', 0.800995945930481),\n",
       " ('perhaps', 0.7783967852592468),\n",
       " (\"allen's\", 0.7734225988388062),\n",
       " ('colony', 0.7619534730911255),\n",
       " ('valentine', 0.742603600025177),\n",
       " ('bette', 0.7317516207695007),\n",
       " ('public', 0.7290756106376648),\n",
       " ('dodgy', 0.7158185839653015)]"
      ]
     },
     "execution_count": 21,
     "metadata": {},
     "output_type": "execute_result"
    }
   ],
   "source": [
    "word_vectors.similar_by_word(\"love\")"
   ]
  },
  {
   "cell_type": "markdown",
   "id": "eff7758d",
   "metadata": {},
   "source": [
    "결과를 보면 알 수 있지만, 이정도 학습으로는 유사한 단어를 찾기 쉽지 않다.<br><br>\n",
    "\n",
    "\n",
    "\n",
    "### 따라서 전이 학습(Transfer Learning)을 시도\n",
    "따라서 구글에서 제공하는 Word2Vec이라는 사전학습된(Pretrained) 워드 임베딩 모델을 가져다 활용할 것<br>\n",
    "Word2Vec은 무려 1억 개의 단어로 구성된 Google News dataset을 바탕으로 학습되었음.(총 300만 개의 단어를 각각 300차원의 벡터로 표현)"
   ]
  },
  {
   "cell_type": "code",
   "execution_count": 22,
   "id": "fbc29d51",
   "metadata": {},
   "outputs": [
    {
     "data": {
      "text/plain": [
       "array([ 1.07421875e-01, -2.01171875e-01,  1.23046875e-01,  2.11914062e-01,\n",
       "       -9.13085938e-02,  2.16796875e-01, -1.31835938e-01,  8.30078125e-02,\n",
       "        2.02148438e-01,  4.78515625e-02,  3.66210938e-02, -2.45361328e-02,\n",
       "        2.39257812e-02, -1.60156250e-01, -2.61230469e-02,  9.71679688e-02,\n",
       "       -6.34765625e-02,  1.84570312e-01,  1.70898438e-01, -1.63085938e-01,\n",
       "       -1.09375000e-01,  1.49414062e-01, -4.65393066e-04,  9.61914062e-02,\n",
       "        1.68945312e-01,  2.60925293e-03,  8.93554688e-02,  6.49414062e-02,\n",
       "        3.56445312e-02, -6.93359375e-02, -1.46484375e-01, -1.21093750e-01,\n",
       "       -2.27539062e-01,  2.45361328e-02, -1.24511719e-01, -3.18359375e-01,\n",
       "       -2.20703125e-01,  1.30859375e-01,  3.66210938e-02, -3.63769531e-02,\n",
       "       -1.13281250e-01,  1.95312500e-01,  9.76562500e-02,  1.26953125e-01,\n",
       "        6.59179688e-02,  6.93359375e-02,  1.02539062e-02,  1.75781250e-01,\n",
       "       -1.68945312e-01,  1.21307373e-03, -2.98828125e-01, -1.15234375e-01,\n",
       "        5.66406250e-02, -1.77734375e-01, -2.08984375e-01,  1.76757812e-01,\n",
       "        2.38037109e-02, -2.57812500e-01, -4.46777344e-02,  1.88476562e-01,\n",
       "        5.51757812e-02,  5.02929688e-02, -1.06933594e-01,  1.89453125e-01,\n",
       "       -1.16210938e-01,  8.49609375e-02, -1.71875000e-01,  2.45117188e-01,\n",
       "       -1.73828125e-01, -8.30078125e-03,  4.56542969e-02, -1.61132812e-02,\n",
       "        1.86523438e-01, -6.05468750e-02, -4.17480469e-02,  1.82617188e-01,\n",
       "        2.20703125e-01, -1.22558594e-01, -2.55126953e-02, -3.08593750e-01,\n",
       "        9.13085938e-02,  1.60156250e-01,  1.70898438e-01,  1.19628906e-01,\n",
       "        7.08007812e-02, -2.64892578e-02, -3.08837891e-02,  4.06250000e-01,\n",
       "       -1.01562500e-01,  5.71289062e-02, -7.26318359e-03, -9.17968750e-02,\n",
       "       -1.50390625e-01, -2.55859375e-01,  2.16796875e-01, -3.63769531e-02,\n",
       "        2.24609375e-01,  8.00781250e-02,  1.56250000e-01,  5.27343750e-02,\n",
       "        1.50390625e-01, -1.14746094e-01, -8.64257812e-02,  1.19140625e-01,\n",
       "       -7.17773438e-02,  2.73437500e-01, -1.64062500e-01,  7.29370117e-03,\n",
       "        4.21875000e-01, -1.12792969e-01, -1.35742188e-01, -1.31835938e-01,\n",
       "       -1.37695312e-01, -7.66601562e-02,  6.25000000e-02,  4.98046875e-02,\n",
       "       -1.91406250e-01, -6.03027344e-02,  2.27539062e-01,  5.88378906e-02,\n",
       "       -3.24218750e-01,  5.41992188e-02, -1.35742188e-01,  8.17871094e-03,\n",
       "       -5.24902344e-02, -1.74713135e-03, -9.81445312e-02, -2.86865234e-02,\n",
       "        3.61328125e-02,  2.15820312e-01,  5.98144531e-02, -3.08593750e-01,\n",
       "       -2.27539062e-01,  2.61718750e-01,  9.86328125e-02, -5.07812500e-02,\n",
       "        1.78222656e-02,  1.31835938e-01, -5.35156250e-01, -1.81640625e-01,\n",
       "        1.38671875e-01, -3.10546875e-01, -9.71679688e-02,  1.31835938e-01,\n",
       "       -1.16210938e-01,  7.03125000e-02,  2.85156250e-01,  3.51562500e-02,\n",
       "       -1.01562500e-01, -3.75976562e-02,  1.41601562e-01,  1.42578125e-01,\n",
       "       -5.68847656e-02,  2.65625000e-01, -2.09960938e-01,  9.64355469e-03,\n",
       "       -6.68945312e-02, -4.83398438e-02, -6.10351562e-02,  2.45117188e-01,\n",
       "       -9.66796875e-02,  1.78222656e-02, -1.27929688e-01, -4.78515625e-02,\n",
       "       -7.26318359e-03,  1.79687500e-01,  2.78320312e-02, -2.10937500e-01,\n",
       "       -1.43554688e-01, -1.27929688e-01,  1.73339844e-02, -3.60107422e-03,\n",
       "       -2.04101562e-01,  3.63159180e-03, -1.19628906e-01, -6.15234375e-02,\n",
       "        5.93261719e-02, -3.23486328e-03, -1.70898438e-01, -3.14941406e-02,\n",
       "       -8.88671875e-02, -2.89062500e-01,  3.44238281e-02, -1.87500000e-01,\n",
       "        2.94921875e-01,  1.58203125e-01, -1.19628906e-01,  7.61718750e-02,\n",
       "        6.39648438e-02, -4.68750000e-02, -6.83593750e-02,  1.21459961e-02,\n",
       "       -1.44531250e-01,  4.54101562e-02,  3.68652344e-02,  3.88671875e-01,\n",
       "        1.45507812e-01, -2.55859375e-01, -4.46777344e-02, -1.33789062e-01,\n",
       "       -1.38671875e-01,  6.59179688e-02,  1.37695312e-01,  1.14746094e-01,\n",
       "        2.03125000e-01, -4.78515625e-02,  1.80664062e-02, -8.54492188e-02,\n",
       "       -2.48046875e-01, -3.39843750e-01, -2.83203125e-02,  1.05468750e-01,\n",
       "       -2.14843750e-01, -8.74023438e-02,  7.12890625e-02,  1.87500000e-01,\n",
       "       -1.12304688e-01,  2.73437500e-01, -3.26171875e-01, -1.77734375e-01,\n",
       "       -4.24804688e-02, -2.69531250e-01,  6.64062500e-02, -6.88476562e-02,\n",
       "       -1.99218750e-01, -7.03125000e-02, -2.43164062e-01, -3.66210938e-02,\n",
       "       -7.37304688e-02, -1.77734375e-01,  9.17968750e-02, -1.25000000e-01,\n",
       "       -1.65039062e-01, -3.57421875e-01, -2.85156250e-01, -1.66992188e-01,\n",
       "        1.97265625e-01, -1.53320312e-01,  2.31933594e-02,  2.06054688e-01,\n",
       "        1.80664062e-01, -2.74658203e-02, -1.92382812e-01, -9.61914062e-02,\n",
       "       -1.06811523e-02, -4.73632812e-02,  6.54296875e-02, -1.25732422e-02,\n",
       "        1.78222656e-02, -8.00781250e-02, -2.59765625e-01,  9.37500000e-02,\n",
       "       -7.81250000e-02,  4.68750000e-02, -2.22167969e-02,  1.86767578e-02,\n",
       "        3.11279297e-02,  1.04980469e-02, -1.69921875e-01,  2.58789062e-02,\n",
       "       -3.41796875e-02, -1.44042969e-02, -5.46875000e-02, -8.78906250e-02,\n",
       "        1.96838379e-03,  2.23632812e-01, -1.36718750e-01,  1.75781250e-01,\n",
       "       -1.63085938e-01,  1.87500000e-01,  3.44238281e-02, -5.63964844e-02,\n",
       "       -2.27689743e-05,  4.27246094e-02,  5.81054688e-02, -1.07910156e-01,\n",
       "       -3.88183594e-02, -2.69531250e-01,  3.34472656e-02,  9.81445312e-02,\n",
       "        5.63964844e-02,  2.23632812e-01, -5.49316406e-02,  1.46484375e-01,\n",
       "        5.93261719e-02, -2.19726562e-01,  6.39648438e-02,  1.66015625e-02,\n",
       "        4.56542969e-02,  3.26171875e-01, -3.80859375e-01,  1.70898438e-01,\n",
       "        5.66406250e-02, -1.04492188e-01,  1.38671875e-01, -1.57226562e-01,\n",
       "        3.23486328e-03, -4.80957031e-02, -2.48046875e-01, -6.20117188e-02],\n",
       "      dtype=float32)"
      ]
     },
     "execution_count": 22,
     "metadata": {},
     "output_type": "execute_result"
    }
   ],
   "source": [
    "from gensim.models import KeyedVectors\n",
    "\n",
    "word2vec_path = os.getenv('HOME')+'/Aiffel_Project/Data/GoogleNews-vectors-negative300.bin.gz'\n",
    "word2vec = KeyedVectors.load_word2vec_format(word2vec_path, binary=True, limit=1000000)\n",
    "vector = word2vec['computer']\n",
    "vector     # 무려 300dim의 워드 벡터."
   ]
  },
  {
   "cell_type": "markdown",
   "id": "92ac7882",
   "metadata": {},
   "source": [
    "300dim의 벡터로 이루어진 300만 개의 단어이므로, 이 단어 사전을 메모리에 모두 로딩하면 메모리 에러가 날 가능성이 크다.<br>\n",
    "따라서 KeyedVectors.load_word2vec_format 메서드로 워드 벡터를 로딩할 때 가장 많이 사용되는 상위 100만 개만 limt으로 조건을 주고 로딩함."
   ]
  },
  {
   "cell_type": "code",
   "execution_count": 23,
   "id": "20add951",
   "metadata": {},
   "outputs": [
    {
     "data": {
      "text/plain": [
       "[('loved', 0.6907791495323181),\n",
       " ('adore', 0.6816874146461487),\n",
       " ('loves', 0.6618633270263672),\n",
       " ('passion', 0.6100709438323975),\n",
       " ('hate', 0.6003956198692322),\n",
       " ('loving', 0.5886634588241577),\n",
       " ('affection', 0.5664337873458862),\n",
       " ('undying_love', 0.5547305345535278),\n",
       " ('absolutely_adore', 0.5536840558052063),\n",
       " ('adores', 0.5440906882286072)]"
      ]
     },
     "execution_count": 23,
     "metadata": {},
     "output_type": "execute_result"
    }
   ],
   "source": [
    "word2vec.similar_by_word(\"love\") #메모리 소비가 큰 작업"
   ]
  },
  {
   "cell_type": "markdown",
   "id": "c218ca56",
   "metadata": {},
   "source": [
    "유사한 단어를 도출해낸다.<br><br>\n",
    "\n",
    "---\n",
    "\n",
    "### 1-7. 이전 학습 모델의 Embedding Layer를 Word2Vec으로 교체해서 학습하기"
   ]
  },
  {
   "cell_type": "code",
   "execution_count": 24,
   "id": "a90b138d",
   "metadata": {},
   "outputs": [],
   "source": [
    "vocab_size = 10000    # 어휘 사전의 크기입니다(10,000개의 단어)\n",
    "word_vector_dim = 300  # 워드 벡터의 차원수\n",
    "embedding_matrix = np.random.rand(vocab_size, word_vector_dim)\n",
    "\n",
    "# embedding_matrix에 Word2Vec 워드 벡터를 단어 하나씩마다 차례차례 카피.\n",
    "for i in range(4,vocab_size):\n",
    "    if index_to_word[i] in word2vec:\n",
    "        embedding_matrix[i] = word2vec[index_to_word[i]]"
   ]
  },
  {
   "cell_type": "code",
   "execution_count": 25,
   "id": "5c871a26",
   "metadata": {},
   "outputs": [
    {
     "name": "stdout",
     "output_type": "stream",
     "text": [
      "Model: \"sequential_1\"\n",
      "_________________________________________________________________\n",
      " Layer (type)                Output Shape              Param #   \n",
      "=================================================================\n",
      " embedding_1 (Embedding)     (None, 580, 300)          3000000   \n",
      "                                                                 \n",
      " conv1d (Conv1D)             (None, 574, 16)           33616     \n",
      "                                                                 \n",
      " max_pooling1d (MaxPooling1D  (None, 114, 16)          0         \n",
      " )                                                               \n",
      "                                                                 \n",
      " conv1d_1 (Conv1D)           (None, 108, 16)           1808      \n",
      "                                                                 \n",
      " global_max_pooling1d (Globa  (None, 16)               0         \n",
      " lMaxPooling1D)                                                  \n",
      "                                                                 \n",
      " dense_1 (Dense)             (None, 8)                 136       \n",
      "                                                                 \n",
      " dense_2 (Dense)             (None, 1)                 9         \n",
      "                                                                 \n",
      "=================================================================\n",
      "Total params: 3,035,569\n",
      "Trainable params: 3,035,569\n",
      "Non-trainable params: 0\n",
      "_________________________________________________________________\n"
     ]
    }
   ],
   "source": [
    "from tensorflow.keras.initializers import Constant\n",
    "\n",
    "vocab_size = 10000    # 어휘 사전의 크기입니다(10,000개의 단어)\n",
    "word_vector_dim = 300  # 워드 벡터의 차원 수 \n",
    "\n",
    "# 모델 구성\n",
    "model = tf.keras.Sequential()\n",
    "model.add(tf.keras.layers.Embedding(vocab_size, \n",
    "                                 word_vector_dim, \n",
    "                                 embeddings_initializer=Constant(embedding_matrix),  # 카피한 임베딩을 여기서 활용\n",
    "                                 input_length=maxlen, \n",
    "                                 trainable=True))   # trainable을 True로 주면 Fine-tuning\n",
    "model.add(tf.keras.layers.Conv1D(16, 7, activation='relu'))\n",
    "model.add(tf.keras.layers.MaxPooling1D(5))\n",
    "model.add(tf.keras.layers.Conv1D(16, 7, activation='relu'))\n",
    "model.add(tf.keras.layers.GlobalMaxPooling1D())\n",
    "model.add(tf.keras.layers.Dense(8, activation='relu'))\n",
    "model.add(tf.keras.layers.Dense(1, activation='sigmoid')) \n",
    "\n",
    "model.summary()"
   ]
  },
  {
   "cell_type": "code",
   "execution_count": 26,
   "id": "5defb14b",
   "metadata": {},
   "outputs": [
    {
     "name": "stdout",
     "output_type": "stream",
     "text": [
      "Epoch 1/20\n"
     ]
    },
    {
     "name": "stderr",
     "output_type": "stream",
     "text": [
      "2022-09-19 23:47:21.782712: W tensorflow/core/platform/profile_utils/cpu_utils.cc:128] Failed to get CPU frequency: 0 Hz\n",
      "2022-09-19 23:47:22.001680: I tensorflow/core/grappler/optimizers/custom_graph_optimizer_registry.cc:114] Plugin optimizer for device_type GPU is enabled.\n"
     ]
    },
    {
     "name": "stdout",
     "output_type": "stream",
     "text": [
      "30/30 [==============================] - ETA: 0s - loss: 0.6911 - accuracy: 0.5275"
     ]
    },
    {
     "name": "stderr",
     "output_type": "stream",
     "text": [
      "2022-09-19 23:47:35.762688: I tensorflow/core/grappler/optimizers/custom_graph_optimizer_registry.cc:114] Plugin optimizer for device_type GPU is enabled.\n"
     ]
    },
    {
     "name": "stdout",
     "output_type": "stream",
     "text": [
      "30/30 [==============================] - 15s 439ms/step - loss: 0.6911 - accuracy: 0.5275 - val_loss: 0.6810 - val_accuracy: 0.5567\n",
      "Epoch 2/20\n",
      "30/30 [==============================] - 12s 407ms/step - loss: 0.6616 - accuracy: 0.6080 - val_loss: 0.6505 - val_accuracy: 0.6152\n",
      "Epoch 3/20\n",
      "30/30 [==============================] - 12s 397ms/step - loss: 0.5859 - accuracy: 0.7239 - val_loss: 0.5409 - val_accuracy: 0.7605\n",
      "Epoch 4/20\n",
      "30/30 [==============================] - 11s 375ms/step - loss: 0.4207 - accuracy: 0.8355 - val_loss: 0.3878 - val_accuracy: 0.8299\n",
      "Epoch 5/20\n",
      "30/30 [==============================] - 9s 305ms/step - loss: 0.2894 - accuracy: 0.8843 - val_loss: 0.3322 - val_accuracy: 0.8577\n",
      "Epoch 6/20\n",
      "30/30 [==============================] - 9s 297ms/step - loss: 0.2142 - accuracy: 0.9219 - val_loss: 0.3176 - val_accuracy: 0.8648\n",
      "Epoch 7/20\n",
      "30/30 [==============================] - 9s 292ms/step - loss: 0.1692 - accuracy: 0.9410 - val_loss: 0.3687 - val_accuracy: 0.8406\n",
      "Epoch 8/20\n",
      "30/30 [==============================] - 9s 294ms/step - loss: 0.1237 - accuracy: 0.9635 - val_loss: 0.3250 - val_accuracy: 0.8689\n",
      "Epoch 9/20\n",
      "30/30 [==============================] - 8s 267ms/step - loss: 0.0868 - accuracy: 0.9818 - val_loss: 0.3395 - val_accuracy: 0.8673\n",
      "Epoch 10/20\n",
      "30/30 [==============================] - 8s 262ms/step - loss: 0.0649 - accuracy: 0.9888 - val_loss: 0.3538 - val_accuracy: 0.8668\n",
      "Epoch 11/20\n",
      "30/30 [==============================] - 8s 263ms/step - loss: 0.0458 - accuracy: 0.9942 - val_loss: 0.3716 - val_accuracy: 0.8656\n",
      "Epoch 12/20\n",
      "30/30 [==============================] - 8s 257ms/step - loss: 0.0316 - accuracy: 0.9975 - val_loss: 0.3989 - val_accuracy: 0.8645\n",
      "Epoch 13/20\n",
      "30/30 [==============================] - 8s 257ms/step - loss: 0.0236 - accuracy: 0.9988 - val_loss: 0.4102 - val_accuracy: 0.8628\n",
      "Epoch 14/20\n",
      "30/30 [==============================] - 7s 249ms/step - loss: 0.0174 - accuracy: 0.9992 - val_loss: 0.4272 - val_accuracy: 0.8625\n",
      "Epoch 15/20\n",
      "30/30 [==============================] - 7s 245ms/step - loss: 0.0136 - accuracy: 0.9993 - val_loss: 0.4453 - val_accuracy: 0.8614\n",
      "Epoch 16/20\n",
      "30/30 [==============================] - 7s 241ms/step - loss: 0.0117 - accuracy: 0.9995 - val_loss: 0.4601 - val_accuracy: 0.8613\n",
      "Epoch 17/20\n",
      "30/30 [==============================] - 7s 248ms/step - loss: 0.0093 - accuracy: 0.9995 - val_loss: 0.4756 - val_accuracy: 0.8609\n",
      "Epoch 18/20\n",
      "30/30 [==============================] - 8s 256ms/step - loss: 0.0077 - accuracy: 0.9996 - val_loss: 0.4877 - val_accuracy: 0.8607\n",
      "Epoch 19/20\n",
      "30/30 [==============================] - 7s 249ms/step - loss: 0.0067 - accuracy: 0.9996 - val_loss: 0.5003 - val_accuracy: 0.8605\n",
      "Epoch 20/20\n",
      "30/30 [==============================] - 7s 250ms/step - loss: 0.0056 - accuracy: 0.9995 - val_loss: 0.5133 - val_accuracy: 0.8602\n"
     ]
    }
   ],
   "source": [
    "# 학습의 진행\n",
    "model.compile(optimizer='adam',\n",
    "              loss='binary_crossentropy',\n",
    "              metrics=['accuracy'])\n",
    "              \n",
    "epochs=20  # 몇 epoch를 훈련하면 좋을지 결과를 보면서 바꾸어 봅시다. \n",
    "\n",
    "history = model.fit(partial_x_train,\n",
    "                    partial_y_train,\n",
    "                    epochs=epochs,\n",
    "                    batch_size=512,\n",
    "                    validation_data=(x_val, y_val),\n",
    "                    verbose=1)"
   ]
  },
  {
   "cell_type": "code",
   "execution_count": 27,
   "id": "73f2e956",
   "metadata": {},
   "outputs": [
    {
     "name": "stdout",
     "output_type": "stream",
     "text": [
      "782/782 - 6s - loss: 0.5670 - accuracy: 0.8482 - 6s/epoch - 7ms/step\n",
      "[0.5670245885848999, 0.8481600284576416]\n"
     ]
    }
   ],
   "source": [
    "# 테스트셋을 통한 모델 평가\n",
    "results = model.evaluate(x_test,  y_test, verbose=2)\n",
    "\n",
    "print(results)"
   ]
  }
 ],
 "metadata": {
  "kernelspec": {
   "display_name": "Python 3.9 (tensorflow)",
   "language": "python",
   "name": "tensorflow"
  },
  "language_info": {
   "codemirror_mode": {
    "name": "ipython",
    "version": 3
   },
   "file_extension": ".py",
   "mimetype": "text/x-python",
   "name": "python",
   "nbconvert_exporter": "python",
   "pygments_lexer": "ipython3",
   "version": "3.9.13"
  }
 },
 "nbformat": 4,
 "nbformat_minor": 5
}
