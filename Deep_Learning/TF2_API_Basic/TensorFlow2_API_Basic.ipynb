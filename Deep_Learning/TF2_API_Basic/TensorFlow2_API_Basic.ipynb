{
 "cells": [
  {
   "cell_type": "markdown",
   "id": "1e2e32ca",
   "metadata": {},
   "source": [
    "# TensorFlow 2 API로 모델 구성하기\n",
    "---\n",
    "#### TensorFlow2에서 딥러닝 모델을 작성하는 방법은 크게 3가지가 있음\n",
    "* Sequential\n",
    "* Functional : Sequential의 일반화된 개념\n",
    "* Model Subclassing : 클래스로 구현된 기존의 모델을 상속받아 자신만의 모델을 생성"
   ]
  },
  {
   "cell_type": "markdown",
   "id": "e4ce92cb",
   "metadata": {},
   "source": [
    "---"
   ]
  },
  {
   "cell_type": "markdown",
   "id": "99949cb8",
   "metadata": {},
   "source": [
    "## 1. TensorFlow2 **Sequential** Model\n",
    "기본적으로 아래와 같은 형식</br>\n",
    "**keras.Sequential()을 선언한 뒤 차곡차곡 add를 통해 쌓아가는 방식**"
   ]
  },
  {
   "cell_type": "markdown",
   "id": "df84eca5",
   "metadata": {},
   "source": [
    "```python\n",
    "import tensorflow as tf\n",
    "from tensorflow import keras\n",
    "\n",
    "model = keras.Sequential()\n",
    "model.add(__넣고싶은 레이어__)\n",
    "model.add(__넣고싶은 레이어__)\n",
    "model.add(__넣고싶은 레이어__)\n",
    "\n",
    "model.fit(x, y, epochs=10, batch_size=32)\n",
    "```"
   ]
  },
  {
   "cell_type": "markdown",
   "id": "57fcc32a",
   "metadata": {},
   "source": [
    "## 2. TensorFlow2 **Functional** API\n",
    "**keras.Model을 사용**</br>\n",
    "사실 Sequential Model이란 keras.Model을 상속받아 확장한 특수 사례에 불과한 것</br>\n",
    "=> Sequential Model을 활용하는 것보다 더 자유로운 모델링을 진행할 수 있음"
   ]
  },
  {
   "cell_type": "markdown",
   "id": "ec142ae6",
   "metadata": {},
   "source": [
    "```python\n",
    "import tensorflow as tf\n",
    "from tensorflow import keras\n",
    "\n",
    "inputs = keras.Input(shape=(__원하는 입력값 모양__))\n",
    "x = keras.layers.__넣고싶은 레이어__(관련 파라미터)(input)\n",
    "x = keras.layers.__넣고싶은 레이어__(관련 파라미터)(x)\n",
    "outputs = keras.layers.__넣고싶은 레이어__(관련 파라미터)(x)\n",
    "\n",
    "model = keras.Model(inputs=inputs, outputs=outputs)\n",
    "model.fit(x,y, epochs=10, batch_size=32)\n",
    "```"
   ]
  },
  {
   "cell_type": "markdown",
   "id": "36ea2349",
   "metadata": {},
   "source": [
    "### + Functional의 의미? \n",
    "함수형으로 모델을 구성한다는 것, 즉 **입력과 출력을 규정함으로써 모델 전체를 규정한다**는 뜻</br>\n",
    "따라서 모델에서 inputs와 outputs를 확인 가능\n",
    "\n",
    "> * [Keras 홈페이지: Functional API](https://www.tensorflow.org/guide/keras/functional)"
   ]
  },
  {
   "cell_type": "markdown",
   "id": "d7797b8c",
   "metadata": {},
   "source": [
    "## 3. TensorFlow2 **Subclassing**\n",
    "제일 자유로운 모델링이자 복잡한 모델링에서 가장 많이 접하는 형태</br>\n",
    "사실 본질적으로는 keras.model을 상속받은 것이기 때문에, 본질적으로는 Functional과 차이가 없음"
   ]
  },
  {
   "cell_type": "markdown",
   "id": "65c73c58",
   "metadata": {},
   "source": [
    "```Python\n",
    "import tensorflow as tf\n",
    "from tensorflow import keras\n",
    "\n",
    "class CustomModel(keras.Model):\n",
    "    def __init__(self):\n",
    "        super(CustomModel, self).__init__()\n",
    "        self.__정의하고자 하는 레이어__()\n",
    "        self.__정의하고자 하는 레이어__()\n",
    "        self.__정의하고자 하는 레이어__()\n",
    "    \n",
    "    def call(self, x):\n",
    "        x = self.__정의하고자 하는 레이어__(x)\n",
    "        x = self.__정의하고자 하는 레이어__(x)\n",
    "        x = self.__정의하고자 하는 레이어__(x)\n",
    "        \n",
    "        return x\n",
    "    \n",
    "model = CustomModel()\n",
    "model.fit(x,y, epochs=10, batch_size=32)\n",
    "````"
   ]
  }
 ],
 "metadata": {
  "kernelspec": {
   "display_name": "Python 3.9 (tensorflow)",
   "language": "python",
   "name": "tensorflow"
  },
  "language_info": {
   "codemirror_mode": {
    "name": "ipython",
    "version": 3
   },
   "file_extension": ".py",
   "mimetype": "text/x-python",
   "name": "python",
   "nbconvert_exporter": "python",
   "pygments_lexer": "ipython3",
   "version": "3.9.13"
  }
 },
 "nbformat": 4,
 "nbformat_minor": 5
}
